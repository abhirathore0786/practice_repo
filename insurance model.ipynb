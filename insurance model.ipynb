{
 "cells": [
  {
   "cell_type": "code",
   "execution_count": 119,
   "id": "d172c380",
   "metadata": {},
   "outputs": [],
   "source": [
    "import numpy as np\n",
    "import pandas as pd\n",
    "import matplotlib.pyplot as plt\n",
    "import seaborn as sns\n",
    "from sklearn.metrics import classification_report,roc_curve, roc_auc_score,confusion_matrix,accuracy_score\n",
    "from sklearn.linear_model import LinearRegression\n",
    "from sklearn.tree import DecisionTreeRegressor\n",
    "from sklearn.model_selection import train_test_split\n",
    "\n",
    "\n",
    "\n",
    "#importing basic libraries which we though will help in model,remaning  will import when required."
   ]
  },
  {
   "cell_type": "code",
   "execution_count": 5,
   "id": "aa32d1b5",
   "metadata": {},
   "outputs": [],
   "source": [
    "df=pd.read_csv(r'https://raw.githubusercontent.com/dsrscientist/dataset4/main/medical_cost_insurance.csv')\n",
    "\n",
    "\n",
    "#First read dataset and make it a dataframe for better understanding "
   ]
  },
  {
   "cell_type": "code",
   "execution_count": 6,
   "id": "a7782283",
   "metadata": {},
   "outputs": [
    {
     "data": {
      "text/html": [
       "<div>\n",
       "<style scoped>\n",
       "    .dataframe tbody tr th:only-of-type {\n",
       "        vertical-align: middle;\n",
       "    }\n",
       "\n",
       "    .dataframe tbody tr th {\n",
       "        vertical-align: top;\n",
       "    }\n",
       "\n",
       "    .dataframe thead th {\n",
       "        text-align: right;\n",
       "    }\n",
       "</style>\n",
       "<table border=\"1\" class=\"dataframe\">\n",
       "  <thead>\n",
       "    <tr style=\"text-align: right;\">\n",
       "      <th></th>\n",
       "      <th>age</th>\n",
       "      <th>sex</th>\n",
       "      <th>bmi</th>\n",
       "      <th>children</th>\n",
       "      <th>smoker</th>\n",
       "      <th>region</th>\n",
       "      <th>charges</th>\n",
       "    </tr>\n",
       "  </thead>\n",
       "  <tbody>\n",
       "    <tr>\n",
       "      <th>0</th>\n",
       "      <td>19</td>\n",
       "      <td>female</td>\n",
       "      <td>27.900</td>\n",
       "      <td>0</td>\n",
       "      <td>yes</td>\n",
       "      <td>southwest</td>\n",
       "      <td>16884.92400</td>\n",
       "    </tr>\n",
       "    <tr>\n",
       "      <th>1</th>\n",
       "      <td>18</td>\n",
       "      <td>male</td>\n",
       "      <td>33.770</td>\n",
       "      <td>1</td>\n",
       "      <td>no</td>\n",
       "      <td>southeast</td>\n",
       "      <td>1725.55230</td>\n",
       "    </tr>\n",
       "    <tr>\n",
       "      <th>2</th>\n",
       "      <td>28</td>\n",
       "      <td>male</td>\n",
       "      <td>33.000</td>\n",
       "      <td>3</td>\n",
       "      <td>no</td>\n",
       "      <td>southeast</td>\n",
       "      <td>4449.46200</td>\n",
       "    </tr>\n",
       "    <tr>\n",
       "      <th>3</th>\n",
       "      <td>33</td>\n",
       "      <td>male</td>\n",
       "      <td>22.705</td>\n",
       "      <td>0</td>\n",
       "      <td>no</td>\n",
       "      <td>northwest</td>\n",
       "      <td>21984.47061</td>\n",
       "    </tr>\n",
       "    <tr>\n",
       "      <th>4</th>\n",
       "      <td>32</td>\n",
       "      <td>male</td>\n",
       "      <td>28.880</td>\n",
       "      <td>0</td>\n",
       "      <td>no</td>\n",
       "      <td>northwest</td>\n",
       "      <td>3866.85520</td>\n",
       "    </tr>\n",
       "    <tr>\n",
       "      <th>...</th>\n",
       "      <td>...</td>\n",
       "      <td>...</td>\n",
       "      <td>...</td>\n",
       "      <td>...</td>\n",
       "      <td>...</td>\n",
       "      <td>...</td>\n",
       "      <td>...</td>\n",
       "    </tr>\n",
       "    <tr>\n",
       "      <th>1333</th>\n",
       "      <td>50</td>\n",
       "      <td>male</td>\n",
       "      <td>30.970</td>\n",
       "      <td>3</td>\n",
       "      <td>no</td>\n",
       "      <td>northwest</td>\n",
       "      <td>10600.54830</td>\n",
       "    </tr>\n",
       "    <tr>\n",
       "      <th>1334</th>\n",
       "      <td>18</td>\n",
       "      <td>female</td>\n",
       "      <td>31.920</td>\n",
       "      <td>0</td>\n",
       "      <td>no</td>\n",
       "      <td>northeast</td>\n",
       "      <td>2205.98080</td>\n",
       "    </tr>\n",
       "    <tr>\n",
       "      <th>1335</th>\n",
       "      <td>18</td>\n",
       "      <td>female</td>\n",
       "      <td>36.850</td>\n",
       "      <td>0</td>\n",
       "      <td>no</td>\n",
       "      <td>southeast</td>\n",
       "      <td>1629.83350</td>\n",
       "    </tr>\n",
       "    <tr>\n",
       "      <th>1336</th>\n",
       "      <td>21</td>\n",
       "      <td>female</td>\n",
       "      <td>25.800</td>\n",
       "      <td>0</td>\n",
       "      <td>no</td>\n",
       "      <td>southwest</td>\n",
       "      <td>2007.94500</td>\n",
       "    </tr>\n",
       "    <tr>\n",
       "      <th>1337</th>\n",
       "      <td>61</td>\n",
       "      <td>female</td>\n",
       "      <td>29.070</td>\n",
       "      <td>0</td>\n",
       "      <td>yes</td>\n",
       "      <td>northwest</td>\n",
       "      <td>29141.36030</td>\n",
       "    </tr>\n",
       "  </tbody>\n",
       "</table>\n",
       "<p>1338 rows × 7 columns</p>\n",
       "</div>"
      ],
      "text/plain": [
       "      age     sex     bmi  children smoker     region      charges\n",
       "0      19  female  27.900         0    yes  southwest  16884.92400\n",
       "1      18    male  33.770         1     no  southeast   1725.55230\n",
       "2      28    male  33.000         3     no  southeast   4449.46200\n",
       "3      33    male  22.705         0     no  northwest  21984.47061\n",
       "4      32    male  28.880         0     no  northwest   3866.85520\n",
       "...   ...     ...     ...       ...    ...        ...          ...\n",
       "1333   50    male  30.970         3     no  northwest  10600.54830\n",
       "1334   18  female  31.920         0     no  northeast   2205.98080\n",
       "1335   18  female  36.850         0     no  southeast   1629.83350\n",
       "1336   21  female  25.800         0     no  southwest   2007.94500\n",
       "1337   61  female  29.070         0    yes  northwest  29141.36030\n",
       "\n",
       "[1338 rows x 7 columns]"
      ]
     },
     "execution_count": 6,
     "metadata": {},
     "output_type": "execute_result"
    }
   ],
   "source": [
    "df"
   ]
  },
  {
   "cell_type": "code",
   "execution_count": null,
   "id": "826e8ce7",
   "metadata": {},
   "outputs": [],
   "source": [
    "# now we will check dataset what our dataset is.There are 7 columns in which 6 columns are our features and 1 is our target charges.\n",
    "#i found that bmi is only continous data in dataset.Remaning are categorical. "
   ]
  },
  {
   "cell_type": "code",
   "execution_count": 13,
   "id": "c747b73d",
   "metadata": {},
   "outputs": [
    {
     "data": {
      "text/plain": [
       "age           int64\n",
       "sex          object\n",
       "bmi         float64\n",
       "children      int64\n",
       "smoker       object\n",
       "region       object\n",
       "charges     float64\n",
       "dtype: object"
      ]
     },
     "execution_count": 13,
     "metadata": {},
     "output_type": "execute_result"
    }
   ],
   "source": [
    "df.dtypes"
   ]
  },
  {
   "cell_type": "code",
   "execution_count": null,
   "id": "fd3c268d",
   "metadata": {},
   "outputs": [],
   "source": [
    "#by using dtypes i will check which type of data we have.All data columns are ok as they are.We can process further."
   ]
  },
  {
   "cell_type": "code",
   "execution_count": 15,
   "id": "73675748",
   "metadata": {},
   "outputs": [
    {
     "data": {
      "text/plain": [
       "age           47\n",
       "sex            2\n",
       "bmi          548\n",
       "children       6\n",
       "smoker         2\n",
       "region         4\n",
       "charges     1337\n",
       "dtype: int64"
      ]
     },
     "execution_count": 15,
     "metadata": {},
     "output_type": "execute_result"
    }
   ],
   "source": [
    "df.nunique()"
   ]
  },
  {
   "cell_type": "code",
   "execution_count": null,
   "id": "c83e3ca3",
   "metadata": {},
   "outputs": [],
   "source": [
    "# using df unique we check uniqueness of data.There are:\n",
    "#47 unique values in age, 2 in sex, 548 in bmi, 6 in children,4 regions charge is our target.\n",
    "\n"
   ]
  },
  {
   "cell_type": "code",
   "execution_count": 17,
   "id": "714ad62c",
   "metadata": {},
   "outputs": [
    {
     "data": {
      "text/plain": [
       "age         0\n",
       "sex         0\n",
       "bmi         0\n",
       "children    0\n",
       "smoker      0\n",
       "region      0\n",
       "charges     0\n",
       "dtype: int64"
      ]
     },
     "execution_count": 17,
     "metadata": {},
     "output_type": "execute_result"
    }
   ],
   "source": [
    "df.isnull().sum()"
   ]
  },
  {
   "cell_type": "code",
   "execution_count": null,
   "id": "75858aca",
   "metadata": {},
   "outputs": [],
   "source": [
    "#now using isnull.sum check is there any null values present or not.we found no null values."
   ]
  },
  {
   "cell_type": "code",
   "execution_count": 28,
   "id": "ac5afbf2",
   "metadata": {},
   "outputs": [
    {
     "name": "stdout",
     "output_type": "stream",
     "text": [
      "18    69\n",
      "19    68\n",
      "50    29\n",
      "51    29\n",
      "47    29\n",
      "46    29\n",
      "45    29\n",
      "20    29\n",
      "48    29\n",
      "52    29\n",
      "22    28\n",
      "49    28\n",
      "54    28\n",
      "53    28\n",
      "21    28\n",
      "26    28\n",
      "24    28\n",
      "25    28\n",
      "28    28\n",
      "27    28\n",
      "23    28\n",
      "43    27\n",
      "29    27\n",
      "30    27\n",
      "41    27\n",
      "42    27\n",
      "44    27\n",
      "31    27\n",
      "40    27\n",
      "32    26\n",
      "33    26\n",
      "56    26\n",
      "34    26\n",
      "55    26\n",
      "57    26\n",
      "37    25\n",
      "59    25\n",
      "58    25\n",
      "36    25\n",
      "38    25\n",
      "35    25\n",
      "39    25\n",
      "61    23\n",
      "60    23\n",
      "63    23\n",
      "62    23\n",
      "64    22\n",
      "Name: age, dtype: int64\n",
      "\n",
      "\n",
      "male      676\n",
      "female    662\n",
      "Name: sex, dtype: int64\n",
      "\n",
      "\n",
      "32.300    13\n",
      "28.310     9\n",
      "30.495     8\n",
      "30.875     8\n",
      "31.350     8\n",
      "          ..\n",
      "46.200     1\n",
      "23.800     1\n",
      "44.770     1\n",
      "32.120     1\n",
      "30.970     1\n",
      "Name: bmi, Length: 548, dtype: int64\n",
      "\n",
      "\n",
      "0    574\n",
      "1    324\n",
      "2    240\n",
      "3    157\n",
      "4     25\n",
      "5     18\n",
      "Name: children, dtype: int64\n",
      "\n",
      "\n",
      "no     1064\n",
      "yes     274\n",
      "Name: smoker, dtype: int64\n",
      "\n",
      "\n",
      "southeast    364\n",
      "southwest    325\n",
      "northwest    325\n",
      "northeast    324\n",
      "Name: region, dtype: int64\n",
      "\n",
      "\n",
      "1639.56310     2\n",
      "16884.92400    1\n",
      "29330.98315    1\n",
      "2221.56445     1\n",
      "19798.05455    1\n",
      "              ..\n",
      "7345.08400     1\n",
      "26109.32905    1\n",
      "28287.89766    1\n",
      "1149.39590     1\n",
      "29141.36030    1\n",
      "Name: charges, Length: 1337, dtype: int64\n",
      "\n",
      "\n"
     ]
    }
   ],
   "source": [
    "for x in df.columns:\n",
    "    \n",
    "    print(df[x].value_counts())\n",
    "    print('\\n')"
   ]
  },
  {
   "cell_type": "code",
   "execution_count": null,
   "id": "04587e58",
   "metadata": {},
   "outputs": [],
   "source": [
    "#using for loop i try to find out how our data is distributed.How many values repeat how many times.\n",
    "#age is widely distributed.I tried as taking age as contionus variable too but results i got is mostly same.In this model i take age as categoriacl data.\n",
    "#sex is male and female only 2 options and balance data\n",
    "#smoker is yes or no imbalance\n",
    "#4 regoins balance data\n",
    "#children is having 6 types of data which seems to be realistic data but less balance"
   ]
  },
  {
   "cell_type": "code",
   "execution_count": 29,
   "id": "6a3485d0",
   "metadata": {},
   "outputs": [
    {
     "data": {
      "text/html": [
       "<div>\n",
       "<style scoped>\n",
       "    .dataframe tbody tr th:only-of-type {\n",
       "        vertical-align: middle;\n",
       "    }\n",
       "\n",
       "    .dataframe tbody tr th {\n",
       "        vertical-align: top;\n",
       "    }\n",
       "\n",
       "    .dataframe thead th {\n",
       "        text-align: right;\n",
       "    }\n",
       "</style>\n",
       "<table border=\"1\" class=\"dataframe\">\n",
       "  <thead>\n",
       "    <tr style=\"text-align: right;\">\n",
       "      <th></th>\n",
       "      <th>age</th>\n",
       "      <th>bmi</th>\n",
       "      <th>children</th>\n",
       "      <th>charges</th>\n",
       "    </tr>\n",
       "  </thead>\n",
       "  <tbody>\n",
       "    <tr>\n",
       "      <th>count</th>\n",
       "      <td>1338.000000</td>\n",
       "      <td>1338.000000</td>\n",
       "      <td>1338.000000</td>\n",
       "      <td>1338.000000</td>\n",
       "    </tr>\n",
       "    <tr>\n",
       "      <th>mean</th>\n",
       "      <td>39.207025</td>\n",
       "      <td>30.663397</td>\n",
       "      <td>1.094918</td>\n",
       "      <td>13270.422265</td>\n",
       "    </tr>\n",
       "    <tr>\n",
       "      <th>std</th>\n",
       "      <td>14.049960</td>\n",
       "      <td>6.098187</td>\n",
       "      <td>1.205493</td>\n",
       "      <td>12110.011237</td>\n",
       "    </tr>\n",
       "    <tr>\n",
       "      <th>min</th>\n",
       "      <td>18.000000</td>\n",
       "      <td>15.960000</td>\n",
       "      <td>0.000000</td>\n",
       "      <td>1121.873900</td>\n",
       "    </tr>\n",
       "    <tr>\n",
       "      <th>25%</th>\n",
       "      <td>27.000000</td>\n",
       "      <td>26.296250</td>\n",
       "      <td>0.000000</td>\n",
       "      <td>4740.287150</td>\n",
       "    </tr>\n",
       "    <tr>\n",
       "      <th>50%</th>\n",
       "      <td>39.000000</td>\n",
       "      <td>30.400000</td>\n",
       "      <td>1.000000</td>\n",
       "      <td>9382.033000</td>\n",
       "    </tr>\n",
       "    <tr>\n",
       "      <th>75%</th>\n",
       "      <td>51.000000</td>\n",
       "      <td>34.693750</td>\n",
       "      <td>2.000000</td>\n",
       "      <td>16639.912515</td>\n",
       "    </tr>\n",
       "    <tr>\n",
       "      <th>max</th>\n",
       "      <td>64.000000</td>\n",
       "      <td>53.130000</td>\n",
       "      <td>5.000000</td>\n",
       "      <td>63770.428010</td>\n",
       "    </tr>\n",
       "  </tbody>\n",
       "</table>\n",
       "</div>"
      ],
      "text/plain": [
       "               age          bmi     children       charges\n",
       "count  1338.000000  1338.000000  1338.000000   1338.000000\n",
       "mean     39.207025    30.663397     1.094918  13270.422265\n",
       "std      14.049960     6.098187     1.205493  12110.011237\n",
       "min      18.000000    15.960000     0.000000   1121.873900\n",
       "25%      27.000000    26.296250     0.000000   4740.287150\n",
       "50%      39.000000    30.400000     1.000000   9382.033000\n",
       "75%      51.000000    34.693750     2.000000  16639.912515\n",
       "max      64.000000    53.130000     5.000000  63770.428010"
      ]
     },
     "execution_count": 29,
     "metadata": {},
     "output_type": "execute_result"
    }
   ],
   "source": [
    "df.describe()"
   ]
  },
  {
   "cell_type": "code",
   "execution_count": null,
   "id": "27fef96d",
   "metadata": {},
   "outputs": [],
   "source": [
    "#describe data will share total overview of dataset.\n",
    "\n",
    "# as most of columns are categorical we do not change anything but bmi is continous.\n",
    "#i found some slight difference in 75%-100% data."
   ]
  },
  {
   "cell_type": "code",
   "execution_count": 69,
   "id": "f15337a9",
   "metadata": {},
   "outputs": [
    {
     "data": {
      "text/plain": [
       "0.2840471105987448"
      ]
     },
     "execution_count": 69,
     "metadata": {},
     "output_type": "execute_result"
    }
   ],
   "source": [
    "df['bmi'].skew()"
   ]
  },
  {
   "cell_type": "code",
   "execution_count": null,
   "id": "1120d053",
   "metadata": {},
   "outputs": [],
   "source": [
    "#check skewness of bmi. and result is ok and under range."
   ]
  },
  {
   "cell_type": "code",
   "execution_count": 166,
   "id": "1884ec69",
   "metadata": {},
   "outputs": [
    {
     "name": "stderr",
     "output_type": "stream",
     "text": [
      "C:\\ProgramData\\Anaconda3\\lib\\site-packages\\seaborn\\distributions.py:2619: FutureWarning: `distplot` is a deprecated function and will be removed in a future version. Please adapt your code to use either `displot` (a figure-level function with similar flexibility) or `histplot` (an axes-level function for histograms).\n",
      "  warnings.warn(msg, FutureWarning)\n"
     ]
    },
    {
     "data": {
      "image/png": "[encoded data removed]",
      "text/plain": [
       "<Figure size 400x400 with 1 Axes>"
      ]
     },
     "metadata": {},
     "output_type": "display_data"
    }
   ],
   "source": [
    "plt.figure(figsize=(4,4))\n",
    "plotnumber=1\n",
    "\n",
    "for bmi in df:\n",
    "    if plotnumber < 2:\n",
    "        sns.distplot(df['bmi'])\n",
    "        plt.xlabel(bmi,fontsize=15)\n",
    "    plotnumber+=1\n",
    "plt.tight_layout()\n",
    "plt.show()"
   ]
  },
  {
   "cell_type": "code",
   "execution_count": null,
   "id": "983a5934",
   "metadata": {},
   "outputs": [],
   "source": [
    "#after ploting data found bell shaped and found no major issue as of now.But for being sure going to plot boxplot."
   ]
  },
  {
   "cell_type": "code",
   "execution_count": 165,
   "id": "139ff618",
   "metadata": {},
   "outputs": [
    {
     "data": {
      "image/png": "[encoded data removed]",
      "text/plain": [
       "<Figure size 640x480 with 1 Axes>"
      ]
     },
     "metadata": {},
     "output_type": "display_data"
    }
   ],
   "source": [
    "sns.boxplot(data=df[bmi])\n",
    "plt.show()"
   ]
  },
  {
   "cell_type": "code",
   "execution_count": null,
   "id": "c8f6b6cf",
   "metadata": {},
   "outputs": [],
   "source": [
    "#here i found someoutliers.After checking and exploring on internt i found noraml bmi range.Outlier data is someting about 40+ which is not possible.\n",
    "#So i decided to trim these outliers"
   ]
  },
  {
   "cell_type": "code",
   "execution_count": 76,
   "id": "4c877325",
   "metadata": {},
   "outputs": [],
   "source": [
    "q1=df.quantile(0.25)\n",
    "q3=df.quantile(0.75)\n",
    "\n",
    "\n",
    "#and\n",
    "\n",
    "iqr=q3-q1"
   ]
  },
  {
   "cell_type": "code",
   "execution_count": 77,
   "id": "79da7537",
   "metadata": {},
   "outputs": [
    {
     "name": "stdout",
     "output_type": "stream",
     "text": [
      "age           27.00000\n",
      "sex            0.00000\n",
      "bmi           26.29625\n",
      "children       0.00000\n",
      "smoker         0.00000\n",
      "region         1.00000\n",
      "charges     4740.28715\n",
      "Name: 0.25, dtype: float64\n",
      "\n",
      "\n",
      "age            51.000000\n",
      "sex             1.000000\n",
      "bmi            34.693750\n",
      "children        2.000000\n",
      "smoker          0.000000\n",
      "region          2.000000\n",
      "charges     16639.912515\n",
      "Name: 0.75, dtype: float64\n"
     ]
    }
   ],
   "source": [
    "print(q1)\n",
    "print('\\n')\n",
    "print(q3)"
   ]
  },
  {
   "cell_type": "code",
   "execution_count": 78,
   "id": "c7ec67ea",
   "metadata": {},
   "outputs": [
    {
     "name": "stdout",
     "output_type": "stream",
     "text": [
      "47.290000000000006\n"
     ]
    },
    {
     "data": {
      "text/html": [
       "<div>\n",
       "<style scoped>\n",
       "    .dataframe tbody tr th:only-of-type {\n",
       "        vertical-align: middle;\n",
       "    }\n",
       "\n",
       "    .dataframe tbody tr th {\n",
       "        vertical-align: top;\n",
       "    }\n",
       "\n",
       "    .dataframe thead th {\n",
       "        text-align: right;\n",
       "    }\n",
       "</style>\n",
       "<table border=\"1\" class=\"dataframe\">\n",
       "  <thead>\n",
       "    <tr style=\"text-align: right;\">\n",
       "      <th></th>\n",
       "      <th>index</th>\n",
       "      <th>age</th>\n",
       "      <th>sex</th>\n",
       "      <th>bmi</th>\n",
       "      <th>children</th>\n",
       "      <th>smoker</th>\n",
       "      <th>region</th>\n",
       "      <th>charges</th>\n",
       "    </tr>\n",
       "  </thead>\n",
       "  <tbody>\n",
       "    <tr>\n",
       "      <th>0</th>\n",
       "      <td>0</td>\n",
       "      <td>19</td>\n",
       "      <td>0</td>\n",
       "      <td>27.900</td>\n",
       "      <td>0</td>\n",
       "      <td>1</td>\n",
       "      <td>3</td>\n",
       "      <td>16884.92400</td>\n",
       "    </tr>\n",
       "    <tr>\n",
       "      <th>1</th>\n",
       "      <td>1</td>\n",
       "      <td>18</td>\n",
       "      <td>1</td>\n",
       "      <td>33.770</td>\n",
       "      <td>1</td>\n",
       "      <td>0</td>\n",
       "      <td>2</td>\n",
       "      <td>1725.55230</td>\n",
       "    </tr>\n",
       "    <tr>\n",
       "      <th>2</th>\n",
       "      <td>2</td>\n",
       "      <td>28</td>\n",
       "      <td>1</td>\n",
       "      <td>33.000</td>\n",
       "      <td>3</td>\n",
       "      <td>0</td>\n",
       "      <td>2</td>\n",
       "      <td>4449.46200</td>\n",
       "    </tr>\n",
       "    <tr>\n",
       "      <th>3</th>\n",
       "      <td>3</td>\n",
       "      <td>33</td>\n",
       "      <td>1</td>\n",
       "      <td>22.705</td>\n",
       "      <td>0</td>\n",
       "      <td>0</td>\n",
       "      <td>1</td>\n",
       "      <td>21984.47061</td>\n",
       "    </tr>\n",
       "    <tr>\n",
       "      <th>4</th>\n",
       "      <td>4</td>\n",
       "      <td>32</td>\n",
       "      <td>1</td>\n",
       "      <td>28.880</td>\n",
       "      <td>0</td>\n",
       "      <td>0</td>\n",
       "      <td>1</td>\n",
       "      <td>3866.85520</td>\n",
       "    </tr>\n",
       "    <tr>\n",
       "      <th>...</th>\n",
       "      <td>...</td>\n",
       "      <td>...</td>\n",
       "      <td>...</td>\n",
       "      <td>...</td>\n",
       "      <td>...</td>\n",
       "      <td>...</td>\n",
       "      <td>...</td>\n",
       "      <td>...</td>\n",
       "    </tr>\n",
       "    <tr>\n",
       "      <th>1324</th>\n",
       "      <td>1333</td>\n",
       "      <td>50</td>\n",
       "      <td>1</td>\n",
       "      <td>30.970</td>\n",
       "      <td>3</td>\n",
       "      <td>0</td>\n",
       "      <td>1</td>\n",
       "      <td>10600.54830</td>\n",
       "    </tr>\n",
       "    <tr>\n",
       "      <th>1325</th>\n",
       "      <td>1334</td>\n",
       "      <td>18</td>\n",
       "      <td>0</td>\n",
       "      <td>31.920</td>\n",
       "      <td>0</td>\n",
       "      <td>0</td>\n",
       "      <td>0</td>\n",
       "      <td>2205.98080</td>\n",
       "    </tr>\n",
       "    <tr>\n",
       "      <th>1326</th>\n",
       "      <td>1335</td>\n",
       "      <td>18</td>\n",
       "      <td>0</td>\n",
       "      <td>36.850</td>\n",
       "      <td>0</td>\n",
       "      <td>0</td>\n",
       "      <td>2</td>\n",
       "      <td>1629.83350</td>\n",
       "    </tr>\n",
       "    <tr>\n",
       "      <th>1327</th>\n",
       "      <td>1336</td>\n",
       "      <td>21</td>\n",
       "      <td>0</td>\n",
       "      <td>25.800</td>\n",
       "      <td>0</td>\n",
       "      <td>0</td>\n",
       "      <td>3</td>\n",
       "      <td>2007.94500</td>\n",
       "    </tr>\n",
       "    <tr>\n",
       "      <th>1328</th>\n",
       "      <td>1337</td>\n",
       "      <td>61</td>\n",
       "      <td>0</td>\n",
       "      <td>29.070</td>\n",
       "      <td>0</td>\n",
       "      <td>1</td>\n",
       "      <td>1</td>\n",
       "      <td>29141.36030</td>\n",
       "    </tr>\n",
       "  </tbody>\n",
       "</table>\n",
       "<p>1329 rows × 8 columns</p>\n",
       "</div>"
      ],
      "text/plain": [
       "      index  age  sex     bmi  children  smoker  region      charges\n",
       "0         0   19    0  27.900         0       1       3  16884.92400\n",
       "1         1   18    1  33.770         1       0       2   1725.55230\n",
       "2         2   28    1  33.000         3       0       2   4449.46200\n",
       "3         3   33    1  22.705         0       0       1  21984.47061\n",
       "4         4   32    1  28.880         0       0       1   3866.85520\n",
       "...     ...  ...  ...     ...       ...     ...     ...          ...\n",
       "1324   1333   50    1  30.970         3       0       1  10600.54830\n",
       "1325   1334   18    0  31.920         0       0       0   2205.98080\n",
       "1326   1335   18    0  36.850         0       0       2   1629.83350\n",
       "1327   1336   21    0  25.800         0       0       3   2007.94500\n",
       "1328   1337   61    0  29.070         0       1       1  29141.36030\n",
       "\n",
       "[1329 rows x 8 columns]"
      ]
     },
     "execution_count": 78,
     "metadata": {},
     "output_type": "execute_result"
    }
   ],
   "source": [
    "bm=(q3['bmi']+(1.5*iqr['bmi']))\n",
    "print(bm)\n",
    "\n",
    "find=np.where(df['bmi']>bm)\n",
    "df=df.drop(df.index[find])\n",
    "df.shape\n",
    "df.reset_index()"
   ]
  },
  {
   "cell_type": "code",
   "execution_count": null,
   "id": "0ca51fdc",
   "metadata": {},
   "outputs": [],
   "source": [
    "#after removing outliers our dataset have 1329 rows and 8 columns.Data seems to be ok so process further.Now Encode data in numerail format so that our model recognise it.\n",
    "#Using label encoder to encode."
   ]
  },
  {
   "cell_type": "code",
   "execution_count": 82,
   "id": "decb7c7b",
   "metadata": {},
   "outputs": [
    {
     "name": "stderr",
     "output_type": "stream",
     "text": [
      "C:\\ProgramData\\Anaconda3\\lib\\site-packages\\seaborn\\distributions.py:2619: FutureWarning: `distplot` is a deprecated function and will be removed in a future version. Please adapt your code to use either `displot` (a figure-level function with similar flexibility) or `histplot` (an axes-level function for histograms).\n",
      "  warnings.warn(msg, FutureWarning)\n"
     ]
    },
    {
     "data": {
      "image/png": "[encoded data removed]",
      "text/plain": [
       "<Figure size 640x480 with 1 Axes>"
      ]
     },
     "metadata": {},
     "output_type": "display_data"
    }
   ],
   "source": [
    "sns.distplot(df['bmi'])\n",
    "plt.show()"
   ]
  },
  {
   "cell_type": "code",
   "execution_count": 48,
   "id": "a8e189f5",
   "metadata": {},
   "outputs": [],
   "source": [
    "from sklearn.preprocessing import LabelEncoder"
   ]
  },
  {
   "cell_type": "code",
   "execution_count": 49,
   "id": "912d5635",
   "metadata": {},
   "outputs": [],
   "source": [
    "lab_enc=LabelEncoder()"
   ]
  },
  {
   "cell_type": "code",
   "execution_count": 52,
   "id": "e3f22b16",
   "metadata": {},
   "outputs": [
    {
     "data": {
      "text/plain": [
       "array([0, 1, 1, ..., 0, 0, 0])"
      ]
     },
     "execution_count": 52,
     "metadata": {},
     "output_type": "execute_result"
    }
   ],
   "source": [
    "df1=lab_enc.fit_transform(df['sex'])\n",
    "df1"
   ]
  },
  {
   "cell_type": "code",
   "execution_count": 53,
   "id": "4b698af9",
   "metadata": {},
   "outputs": [
    {
     "data": {
      "text/plain": [
       "array([3, 2, 2, ..., 2, 3, 1])"
      ]
     },
     "execution_count": 53,
     "metadata": {},
     "output_type": "execute_result"
    }
   ],
   "source": [
    "df2=lab_enc.fit_transform(df['smoker'])\n",
    "df2\n",
    "\n",
    "df3=lab_enc.fit_transform(df['region'])\n",
    "df3"
   ]
  },
  {
   "cell_type": "code",
   "execution_count": 55,
   "id": "825e48bf",
   "metadata": {},
   "outputs": [
    {
     "data": {
      "text/plain": [
       "0       3\n",
       "1       2\n",
       "2       2\n",
       "3       1\n",
       "4       1\n",
       "       ..\n",
       "1333    1\n",
       "1334    0\n",
       "1335    2\n",
       "1336    3\n",
       "1337    1\n",
       "Length: 1338, dtype: int32"
      ]
     },
     "execution_count": 55,
     "metadata": {},
     "output_type": "execute_result"
    }
   ],
   "source": [
    "pd.Series(df1)\n",
    "pd.Series(df2)\n",
    "\n",
    "\n"
   ]
  },
  {
   "cell_type": "code",
   "execution_count": 58,
   "id": "d738ec8a",
   "metadata": {},
   "outputs": [
    {
     "data": {
      "text/plain": [
       "0       3\n",
       "1       2\n",
       "2       2\n",
       "3       1\n",
       "4       1\n",
       "       ..\n",
       "1333    1\n",
       "1334    0\n",
       "1335    2\n",
       "1336    3\n",
       "1337    1\n",
       "Length: 1338, dtype: int32"
      ]
     },
     "execution_count": 58,
     "metadata": {},
     "output_type": "execute_result"
    }
   ],
   "source": [
    "pd.Series(df3)"
   ]
  },
  {
   "cell_type": "code",
   "execution_count": 64,
   "id": "398ac265",
   "metadata": {},
   "outputs": [],
   "source": [
    "df['sex']=df1"
   ]
  },
  {
   "cell_type": "code",
   "execution_count": 59,
   "id": "4f450396",
   "metadata": {},
   "outputs": [],
   "source": [
    "df['region']=df3"
   ]
  },
  {
   "cell_type": "code",
   "execution_count": 61,
   "id": "d1a33f5c",
   "metadata": {},
   "outputs": [],
   "source": [
    "df['smoker']=df2"
   ]
  },
  {
   "cell_type": "code",
   "execution_count": 74,
   "id": "f8005e7f",
   "metadata": {},
   "outputs": [
    {
     "data": {
      "text/html": [
       "<div>\n",
       "<style scoped>\n",
       "    .dataframe tbody tr th:only-of-type {\n",
       "        vertical-align: middle;\n",
       "    }\n",
       "\n",
       "    .dataframe tbody tr th {\n",
       "        vertical-align: top;\n",
       "    }\n",
       "\n",
       "    .dataframe thead th {\n",
       "        text-align: right;\n",
       "    }\n",
       "</style>\n",
       "<table border=\"1\" class=\"dataframe\">\n",
       "  <thead>\n",
       "    <tr style=\"text-align: right;\">\n",
       "      <th></th>\n",
       "      <th>age</th>\n",
       "      <th>sex</th>\n",
       "      <th>bmi</th>\n",
       "      <th>children</th>\n",
       "      <th>smoker</th>\n",
       "      <th>region</th>\n",
       "      <th>charges</th>\n",
       "    </tr>\n",
       "  </thead>\n",
       "  <tbody>\n",
       "    <tr>\n",
       "      <th>0</th>\n",
       "      <td>19</td>\n",
       "      <td>0</td>\n",
       "      <td>27.900</td>\n",
       "      <td>0</td>\n",
       "      <td>1</td>\n",
       "      <td>3</td>\n",
       "      <td>16884.92400</td>\n",
       "    </tr>\n",
       "    <tr>\n",
       "      <th>1</th>\n",
       "      <td>18</td>\n",
       "      <td>1</td>\n",
       "      <td>33.770</td>\n",
       "      <td>1</td>\n",
       "      <td>0</td>\n",
       "      <td>2</td>\n",
       "      <td>1725.55230</td>\n",
       "    </tr>\n",
       "    <tr>\n",
       "      <th>2</th>\n",
       "      <td>28</td>\n",
       "      <td>1</td>\n",
       "      <td>33.000</td>\n",
       "      <td>3</td>\n",
       "      <td>0</td>\n",
       "      <td>2</td>\n",
       "      <td>4449.46200</td>\n",
       "    </tr>\n",
       "    <tr>\n",
       "      <th>3</th>\n",
       "      <td>33</td>\n",
       "      <td>1</td>\n",
       "      <td>22.705</td>\n",
       "      <td>0</td>\n",
       "      <td>0</td>\n",
       "      <td>1</td>\n",
       "      <td>21984.47061</td>\n",
       "    </tr>\n",
       "    <tr>\n",
       "      <th>4</th>\n",
       "      <td>32</td>\n",
       "      <td>1</td>\n",
       "      <td>28.880</td>\n",
       "      <td>0</td>\n",
       "      <td>0</td>\n",
       "      <td>1</td>\n",
       "      <td>3866.85520</td>\n",
       "    </tr>\n",
       "    <tr>\n",
       "      <th>...</th>\n",
       "      <td>...</td>\n",
       "      <td>...</td>\n",
       "      <td>...</td>\n",
       "      <td>...</td>\n",
       "      <td>...</td>\n",
       "      <td>...</td>\n",
       "      <td>...</td>\n",
       "    </tr>\n",
       "    <tr>\n",
       "      <th>1333</th>\n",
       "      <td>50</td>\n",
       "      <td>1</td>\n",
       "      <td>30.970</td>\n",
       "      <td>3</td>\n",
       "      <td>0</td>\n",
       "      <td>1</td>\n",
       "      <td>10600.54830</td>\n",
       "    </tr>\n",
       "    <tr>\n",
       "      <th>1334</th>\n",
       "      <td>18</td>\n",
       "      <td>0</td>\n",
       "      <td>31.920</td>\n",
       "      <td>0</td>\n",
       "      <td>0</td>\n",
       "      <td>0</td>\n",
       "      <td>2205.98080</td>\n",
       "    </tr>\n",
       "    <tr>\n",
       "      <th>1335</th>\n",
       "      <td>18</td>\n",
       "      <td>0</td>\n",
       "      <td>36.850</td>\n",
       "      <td>0</td>\n",
       "      <td>0</td>\n",
       "      <td>2</td>\n",
       "      <td>1629.83350</td>\n",
       "    </tr>\n",
       "    <tr>\n",
       "      <th>1336</th>\n",
       "      <td>21</td>\n",
       "      <td>0</td>\n",
       "      <td>25.800</td>\n",
       "      <td>0</td>\n",
       "      <td>0</td>\n",
       "      <td>3</td>\n",
       "      <td>2007.94500</td>\n",
       "    </tr>\n",
       "    <tr>\n",
       "      <th>1337</th>\n",
       "      <td>61</td>\n",
       "      <td>0</td>\n",
       "      <td>29.070</td>\n",
       "      <td>0</td>\n",
       "      <td>1</td>\n",
       "      <td>1</td>\n",
       "      <td>29141.36030</td>\n",
       "    </tr>\n",
       "  </tbody>\n",
       "</table>\n",
       "<p>1338 rows × 7 columns</p>\n",
       "</div>"
      ],
      "text/plain": [
       "      age  sex     bmi  children  smoker  region      charges\n",
       "0      19    0  27.900         0       1       3  16884.92400\n",
       "1      18    1  33.770         1       0       2   1725.55230\n",
       "2      28    1  33.000         3       0       2   4449.46200\n",
       "3      33    1  22.705         0       0       1  21984.47061\n",
       "4      32    1  28.880         0       0       1   3866.85520\n",
       "...   ...  ...     ...       ...     ...     ...          ...\n",
       "1333   50    1  30.970         3       0       1  10600.54830\n",
       "1334   18    0  31.920         0       0       0   2205.98080\n",
       "1335   18    0  36.850         0       0       2   1629.83350\n",
       "1336   21    0  25.800         0       0       3   2007.94500\n",
       "1337   61    0  29.070         0       1       1  29141.36030\n",
       "\n",
       "[1338 rows x 7 columns]"
      ]
     },
     "execution_count": 74,
     "metadata": {},
     "output_type": "execute_result"
    }
   ],
   "source": [
    "df"
   ]
  },
  {
   "cell_type": "code",
   "execution_count": 167,
   "id": "ff8cf228",
   "metadata": {},
   "outputs": [],
   "source": [
    "#after encoding our data is now ready for model building.Now i check for multicolinearity issue."
   ]
  },
  {
   "cell_type": "code",
   "execution_count": 83,
   "id": "b4b85046",
   "metadata": {},
   "outputs": [
    {
     "data": {
      "image/png": "[encoded data removed]",
      "text/plain": [
       "<Figure size 800x800 with 2 Axes>"
      ]
     },
     "metadata": {},
     "output_type": "display_data"
    }
   ],
   "source": [
    "df_corr=df.corr().abs()\n",
    "\n",
    "plt.figure(figsize=(8,8))\n",
    "sns.heatmap(df_corr, annot=True,annot_kws={'size':10})\n",
    "plt.show()"
   ]
  },
  {
   "cell_type": "code",
   "execution_count": null,
   "id": "de61be6d",
   "metadata": {},
   "outputs": [],
   "source": [
    "#Smoker is highly co-related with tagret.Other are not as much related to target. "
   ]
  },
  {
   "cell_type": "code",
   "execution_count": 84,
   "id": "aac6a88b",
   "metadata": {},
   "outputs": [
    {
     "data": {
      "text/html": [
       "<div>\n",
       "<style scoped>\n",
       "    .dataframe tbody tr th:only-of-type {\n",
       "        vertical-align: middle;\n",
       "    }\n",
       "\n",
       "    .dataframe tbody tr th {\n",
       "        vertical-align: top;\n",
       "    }\n",
       "\n",
       "    .dataframe thead th {\n",
       "        text-align: right;\n",
       "    }\n",
       "</style>\n",
       "<table border=\"1\" class=\"dataframe\">\n",
       "  <thead>\n",
       "    <tr style=\"text-align: right;\">\n",
       "      <th></th>\n",
       "      <th>age</th>\n",
       "      <th>sex</th>\n",
       "      <th>bmi</th>\n",
       "      <th>children</th>\n",
       "      <th>smoker</th>\n",
       "      <th>region</th>\n",
       "      <th>charges</th>\n",
       "    </tr>\n",
       "  </thead>\n",
       "  <tbody>\n",
       "    <tr>\n",
       "      <th>age</th>\n",
       "      <td>1.000000</td>\n",
       "      <td>-0.019143</td>\n",
       "      <td>0.114686</td>\n",
       "      <td>0.043041</td>\n",
       "      <td>-0.024505</td>\n",
       "      <td>0.002806</td>\n",
       "      <td>0.302022</td>\n",
       "    </tr>\n",
       "    <tr>\n",
       "      <th>sex</th>\n",
       "      <td>-0.019143</td>\n",
       "      <td>1.000000</td>\n",
       "      <td>0.039958</td>\n",
       "      <td>0.019281</td>\n",
       "      <td>0.079854</td>\n",
       "      <td>0.002963</td>\n",
       "      <td>0.063394</td>\n",
       "    </tr>\n",
       "    <tr>\n",
       "      <th>bmi</th>\n",
       "      <td>0.114686</td>\n",
       "      <td>0.039958</td>\n",
       "      <td>1.000000</td>\n",
       "      <td>0.017355</td>\n",
       "      <td>-0.002871</td>\n",
       "      <td>0.155847</td>\n",
       "      <td>0.193196</td>\n",
       "    </tr>\n",
       "    <tr>\n",
       "      <th>children</th>\n",
       "      <td>0.043041</td>\n",
       "      <td>0.019281</td>\n",
       "      <td>0.017355</td>\n",
       "      <td>1.000000</td>\n",
       "      <td>0.007577</td>\n",
       "      <td>0.017642</td>\n",
       "      <td>0.069739</td>\n",
       "    </tr>\n",
       "    <tr>\n",
       "      <th>smoker</th>\n",
       "      <td>-0.024505</td>\n",
       "      <td>0.079854</td>\n",
       "      <td>-0.002871</td>\n",
       "      <td>0.007577</td>\n",
       "      <td>1.000000</td>\n",
       "      <td>-0.005181</td>\n",
       "      <td>0.785912</td>\n",
       "    </tr>\n",
       "    <tr>\n",
       "      <th>region</th>\n",
       "      <td>0.002806</td>\n",
       "      <td>0.002963</td>\n",
       "      <td>0.155847</td>\n",
       "      <td>0.017642</td>\n",
       "      <td>-0.005181</td>\n",
       "      <td>1.000000</td>\n",
       "      <td>-0.010730</td>\n",
       "    </tr>\n",
       "    <tr>\n",
       "      <th>charges</th>\n",
       "      <td>0.302022</td>\n",
       "      <td>0.063394</td>\n",
       "      <td>0.193196</td>\n",
       "      <td>0.069739</td>\n",
       "      <td>0.785912</td>\n",
       "      <td>-0.010730</td>\n",
       "      <td>1.000000</td>\n",
       "    </tr>\n",
       "  </tbody>\n",
       "</table>\n",
       "</div>"
      ],
      "text/plain": [
       "               age       sex       bmi  children    smoker    region   charges\n",
       "age       1.000000 -0.019143  0.114686  0.043041 -0.024505  0.002806  0.302022\n",
       "sex      -0.019143  1.000000  0.039958  0.019281  0.079854  0.002963  0.063394\n",
       "bmi       0.114686  0.039958  1.000000  0.017355 -0.002871  0.155847  0.193196\n",
       "children  0.043041  0.019281  0.017355  1.000000  0.007577  0.017642  0.069739\n",
       "smoker   -0.024505  0.079854 -0.002871  0.007577  1.000000 -0.005181  0.785912\n",
       "region    0.002806  0.002963  0.155847  0.017642 -0.005181  1.000000 -0.010730\n",
       "charges   0.302022  0.063394  0.193196  0.069739  0.785912 -0.010730  1.000000"
      ]
     },
     "execution_count": 84,
     "metadata": {},
     "output_type": "execute_result"
    }
   ],
   "source": [
    "df.corr()"
   ]
  },
  {
   "cell_type": "code",
   "execution_count": null,
   "id": "7abb9858",
   "metadata": {},
   "outputs": [],
   "source": [
    "# for make sure i again use corr to confirm there is not another correlated thing left..And found nothing special to take care of."
   ]
  },
  {
   "cell_type": "code",
   "execution_count": 86,
   "id": "8276a07f",
   "metadata": {},
   "outputs": [],
   "source": [
    "X=df.drop('charges',axis=1)\n",
    "y=df['charges']"
   ]
  },
  {
   "cell_type": "code",
   "execution_count": null,
   "id": "e5c88950",
   "metadata": {},
   "outputs": [],
   "source": [
    "#drop target and put in another variable y and remaning in X."
   ]
  },
  {
   "cell_type": "code",
   "execution_count": 85,
   "id": "84997b88",
   "metadata": {},
   "outputs": [],
   "source": [
    "from sklearn.preprocessing import StandardScaler\n",
    "\n",
    "#standardize the data using standardscaler"
   ]
  },
  {
   "cell_type": "code",
   "execution_count": 87,
   "id": "9d46737d",
   "metadata": {},
   "outputs": [],
   "source": [
    "scaler=StandardScaler()\n",
    "scaled=scaler.fit_transform(X)"
   ]
  },
  {
   "cell_type": "code",
   "execution_count": 91,
   "id": "3ed3c220",
   "metadata": {},
   "outputs": [],
   "source": [
    "x_train,x_test,y_train,y_test=train_test_split(scaled,y, test_size=0.30,random_state=100)\n",
    "\n",
    "#initiate train test split technique."
   ]
  },
  {
   "cell_type": "code",
   "execution_count": 99,
   "id": "d6cea4a5",
   "metadata": {},
   "outputs": [
    {
     "data": {
      "text/plain": [
       "LinearRegression()"
      ]
     },
     "execution_count": 99,
     "metadata": {},
     "output_type": "execute_result"
    }
   ],
   "source": [
    "log_reg=LinearRegression()\n",
    "log_reg.fit(x_train,y_train)\n"
   ]
  },
  {
   "cell_type": "code",
   "execution_count": null,
   "id": "a0c7573b",
   "metadata": {},
   "outputs": [],
   "source": [
    "#first i choose to build linear regression initate and fit model"
   ]
  },
  {
   "cell_type": "code",
   "execution_count": 115,
   "id": "7468ac30",
   "metadata": {},
   "outputs": [
    {
     "name": "stdout",
     "output_type": "stream",
     "text": [
      "\n",
      "-------------Train Result---------\n",
      "\n",
      "R-squared (R2) Score: 0.745434813340494\n",
      "\n",
      "----------Test Score--------\n",
      "R-squared (R2) Score: 0.7569837103407062\n"
     ]
    }
   ],
   "source": [
    "from sklearn.metrics import mean_squared_error, r2_score\n",
    "\n",
    "def metric_score(log_reg, x_train, x_test, y_train, y_test, train=True):\n",
    "    if train:\n",
    "        y_pred = log_reg.predict(x_train)\n",
    "        mse = mean_squared_error(y_train, y_pred)\n",
    "        r2 = r2_score(y_train, y_pred)\n",
    "        print(\"\\n-------------Train Result---------\\n\")\n",
    "        print(f\"R-squared (R2) Score: {r2}\")\n",
    "    else:\n",
    "        y_pred = log_reg.predict(x_test)\n",
    "        mse = mean_squared_error(y_test, y_pred)\n",
    "        r2 = r2_score(y_test, y_pred)\n",
    "        print(\"\\n----------Test Score--------\")\n",
    "        print(f'R-squared (R2) Score: {r2}')\n",
    "\n",
    "# Training and evaluating the regression model\n",
    "metric_score(log_reg, x_train, x_test, y_train, y_test, train=True)\n",
    "metric_score(log_reg, x_train, x_test, y_train, y_test, train=False)\n"
   ]
  },
  {
   "cell_type": "code",
   "execution_count": 168,
   "id": "2d16fa50",
   "metadata": {},
   "outputs": [],
   "source": [
    "#create a function to find out accuracy score(r2 score)\n",
    "#train result is 74% and test score is 75%"
   ]
  },
  {
   "cell_type": "code",
   "execution_count": 120,
   "id": "27115cb8",
   "metadata": {},
   "outputs": [],
   "source": [
    "d_reg=DecisionTreeRegressor()"
   ]
  },
  {
   "cell_type": "code",
   "execution_count": 121,
   "id": "4087600c",
   "metadata": {},
   "outputs": [
    {
     "data": {
      "text/plain": [
       "DecisionTreeRegressor()"
      ]
     },
     "execution_count": 121,
     "metadata": {},
     "output_type": "execute_result"
    }
   ],
   "source": [
    "d_reg.fit(x_train,y_train)"
   ]
  },
  {
   "cell_type": "code",
   "execution_count": null,
   "id": "f6bc48e7",
   "metadata": {},
   "outputs": [],
   "source": [
    "#another model decision tree "
   ]
  },
  {
   "cell_type": "code",
   "execution_count": 124,
   "id": "c93124a1",
   "metadata": {},
   "outputs": [
    {
     "name": "stdout",
     "output_type": "stream",
     "text": [
      "\n",
      "-------------Train Result---------\n",
      "\n",
      "R-squared (R2) Score: 99.80729919973172%\n",
      "\n",
      "----------Test Score--------\n",
      "R-squared (R2) Score: 74.76554547402938%\n"
     ]
    }
   ],
   "source": [
    "from sklearn.metrics import r2_score\n",
    "\n",
    "def metric_score(d_reg, x_train, x_test, y_train, y_test, train=True):\n",
    "    if train:\n",
    "        y_pred = d_reg.predict(x_train)\n",
    "        \n",
    "        r2 = r2_score(y_train, y_pred)\n",
    "        print(\"\\n-------------Train Result---------\\n\")\n",
    "        print(f\"R-squared (R2) Score: {r2*100}%\")\n",
    "    else:\n",
    "        y_pred = d_reg.predict(x_test)\n",
    "        \n",
    "        r2 = r2_score(y_test, y_pred)\n",
    "        print(\"\\n----------Test Score--------\")\n",
    "        print(f'R-squared (R2) Score: {r2*100}%',)\n",
    "\n",
    "metric_score(d_reg, x_train, x_test, y_train, y_test, train=True)\n",
    "metric_score(d_reg, x_train, x_test, y_train, y_test, train=False)"
   ]
  },
  {
   "cell_type": "code",
   "execution_count": null,
   "id": "ab7e5c98",
   "metadata": {},
   "outputs": [],
   "source": [
    "#use same function and get r2 train and test result something differnt.\n",
    "#try to use some Cv in model so import LASSOCV"
   ]
  },
  {
   "cell_type": "code",
   "execution_count": 125,
   "id": "ab985fb3",
   "metadata": {},
   "outputs": [],
   "source": [
    "from sklearn.linear_model import Lasso, LassoCV"
   ]
  },
  {
   "cell_type": "code",
   "execution_count": 126,
   "id": "d23ab91c",
   "metadata": {},
   "outputs": [
    {
     "data": {
      "text/plain": [
       "LassoCV(max_iter=15)"
      ]
     },
     "execution_count": 126,
     "metadata": {},
     "output_type": "execute_result"
    }
   ],
   "source": [
    "lassocv=LassoCV(alphas=None, max_iter=15)\n",
    "lassocv.fit(x_train,y_train)"
   ]
  },
  {
   "cell_type": "code",
   "execution_count": 128,
   "id": "48aa4def",
   "metadata": {},
   "outputs": [
    {
     "data": {
      "text/plain": [
       "62.08601003989981"
      ]
     },
     "execution_count": 128,
     "metadata": {},
     "output_type": "execute_result"
    }
   ],
   "source": [
    "alpha=lassocv.alpha_\n",
    "alpha"
   ]
  },
  {
   "cell_type": "code",
   "execution_count": 129,
   "id": "7170d6cf",
   "metadata": {},
   "outputs": [
    {
     "data": {
      "text/plain": [
       "Lasso(alpha=62.08601003989981)"
      ]
     },
     "execution_count": 129,
     "metadata": {},
     "output_type": "execute_result"
    }
   ],
   "source": [
    "lasso_reg=Lasso(alpha)\n",
    "lasso_reg.fit(x_train,y_train)"
   ]
  },
  {
   "cell_type": "code",
   "execution_count": 130,
   "id": "82a1b4ce",
   "metadata": {},
   "outputs": [
    {
     "data": {
      "text/plain": [
       "0.7584209644108348"
      ]
     },
     "execution_count": 130,
     "metadata": {},
     "output_type": "execute_result"
    }
   ],
   "source": [
    "lasso_reg.score(x_test,y_test)"
   ]
  },
  {
   "cell_type": "code",
   "execution_count": null,
   "id": "702771e9",
   "metadata": {},
   "outputs": [],
   "source": [
    "#after implimenting lasso cv not much score increased but a little bit."
   ]
  },
  {
   "cell_type": "code",
   "execution_count": 148,
   "id": "25afaef6",
   "metadata": {},
   "outputs": [],
   "source": [
    "from sklearn.neighbors import KNeighborsRegressor\n",
    "knn=KNeighborsRegressor()"
   ]
  },
  {
   "cell_type": "code",
   "execution_count": 149,
   "id": "814bdfd3",
   "metadata": {},
   "outputs": [
    {
     "data": {
      "text/plain": [
       "KNeighborsRegressor()"
      ]
     },
     "execution_count": 149,
     "metadata": {},
     "output_type": "execute_result"
    }
   ],
   "source": [
    "knn.fit(x_train,y_train)"
   ]
  },
  {
   "cell_type": "code",
   "execution_count": null,
   "id": "9cb5a12a",
   "metadata": {},
   "outputs": [],
   "source": [
    "#third model knn model"
   ]
  },
  {
   "cell_type": "code",
   "execution_count": 154,
   "id": "ea5fd10c",
   "metadata": {},
   "outputs": [
    {
     "name": "stdout",
     "output_type": "stream",
     "text": [
      "\n",
      "-------------Train Result---------\n",
      "\n",
      "R-squared (R2) Score: 99.80729919973172%\n",
      "\n",
      "----------Test Score--------\n",
      "R-squared (R2) Score: 74.76554547402938%\n"
     ]
    }
   ],
   "source": [
    "def metric_score(d_reg, x_train, x_test, y_train, y_test, train=True):\n",
    "    if train:\n",
    "        y_pred = d_reg.predict(x_train)\n",
    "        \n",
    "        r2 = r2_score(y_train, y_pred)\n",
    "        print(\"\\n-------------Train Result---------\\n\")\n",
    "        print(f\"R-squared (R2) Score: {r2*100}%\")\n",
    "    else:\n",
    "        y_pred = d_reg.predict(x_test)\n",
    "        \n",
    "        r2 = r2_score(y_test, y_pred)\n",
    "        print(\"\\n----------Test Score--------\")\n",
    "        print(f'R-squared (R2) Score: {r2*100}%',)\n",
    "\n"
   ]
  },
  {
   "cell_type": "code",
   "execution_count": 155,
   "id": "542b1945",
   "metadata": {},
   "outputs": [
    {
     "name": "stdout",
     "output_type": "stream",
     "text": [
      "\n",
      "-------------Train Result---------\n",
      "\n",
      "R-squared (R2) Score: 87.04823993951155%\n",
      "\n",
      "----------Test Score--------\n",
      "R-squared (R2) Score: 82.55496785713711%\n"
     ]
    }
   ],
   "source": [
    "metric_score(knn,x_train,x_test,y_train,y_test, train=True)\n",
    "metric_score(knn,x_train,x_test,y_train,y_test, train=False)"
   ]
  },
  {
   "cell_type": "code",
   "execution_count": null,
   "id": "85cb5e58",
   "metadata": {},
   "outputs": [],
   "source": [
    "#knn model gives best accuracy in both train and test as 87% and 82%"
   ]
  },
  {
   "cell_type": "code",
   "execution_count": null,
   "id": "32631953",
   "metadata": {},
   "outputs": [],
   "source": [
    "#try to improve more using GRIDSEARCHCV method"
   ]
  },
  {
   "cell_type": "code",
   "execution_count": 131,
   "id": "9dc1f5c1",
   "metadata": {},
   "outputs": [],
   "source": [
    "from sklearn.model_selection import GridSearchCV"
   ]
  },
  {
   "cell_type": "code",
   "execution_count": 142,
   "id": "95f2d400",
   "metadata": {},
   "outputs": [],
   "source": [
    "param_grid={'algorithm':['kd_tree','brute'],\n",
    "                         'leaf_size':[3,4,5,6],\n",
    "             'n_neighbors':[3,5,6,7,9]}"
   ]
  },
  {
   "cell_type": "code",
   "execution_count": 156,
   "id": "05976311",
   "metadata": {},
   "outputs": [],
   "source": [
    "grid=GridSearchCV(estimator=knn,\n",
    "                  param_grid=param_grid)"
   ]
  },
  {
   "cell_type": "code",
   "execution_count": 157,
   "id": "916469d1",
   "metadata": {},
   "outputs": [
    {
     "data": {
      "text/plain": [
       "GridSearchCV(estimator=KNeighborsRegressor(),\n",
       "             param_grid={'algorithm': ['kd_tree', 'brute'],\n",
       "                         'leaf_size': [3, 4, 5, 6],\n",
       "                         'n_neighbors': [3, 5, 6, 7, 9]})"
      ]
     },
     "execution_count": 157,
     "metadata": {},
     "output_type": "execute_result"
    }
   ],
   "source": [
    "grid.fit(x_train,y_train)"
   ]
  },
  {
   "cell_type": "code",
   "execution_count": 158,
   "id": "943ddaeb",
   "metadata": {},
   "outputs": [
    {
     "data": {
      "text/plain": [
       "0.8049717084934622"
      ]
     },
     "execution_count": 158,
     "metadata": {},
     "output_type": "execute_result"
    }
   ],
   "source": [
    "grid.best_score_"
   ]
  },
  {
   "cell_type": "code",
   "execution_count": 159,
   "id": "11e5bae0",
   "metadata": {},
   "outputs": [
    {
     "data": {
      "text/plain": [
       "KNeighborsRegressor(algorithm='kd_tree', leaf_size=3, n_neighbors=7)"
      ]
     },
     "execution_count": 159,
     "metadata": {},
     "output_type": "execute_result"
    }
   ],
   "source": [
    "grid.best_estimator_"
   ]
  },
  {
   "cell_type": "code",
   "execution_count": 161,
   "id": "7819e922",
   "metadata": {},
   "outputs": [],
   "source": [
    "knn=KNeighborsRegressor(algorithm='kd_tree', leaf_size=3, n_neighbors=7)"
   ]
  },
  {
   "cell_type": "code",
   "execution_count": 162,
   "id": "502e0a9a",
   "metadata": {},
   "outputs": [
    {
     "data": {
      "text/plain": [
       "KNeighborsRegressor(algorithm='kd_tree', leaf_size=3, n_neighbors=7)"
      ]
     },
     "execution_count": 162,
     "metadata": {},
     "output_type": "execute_result"
    }
   ],
   "source": [
    "knn.fit(x_train,y_train)"
   ]
  },
  {
   "cell_type": "code",
   "execution_count": 163,
   "id": "de3ddd65",
   "metadata": {},
   "outputs": [
    {
     "name": "stdout",
     "output_type": "stream",
     "text": [
      "\n",
      "-------------Train Result---------\n",
      "\n",
      "R-squared (R2) Score: 85.24014275415557%\n",
      "\n",
      "----------Test Score--------\n",
      "R-squared (R2) Score: 82.56852096421233%\n"
     ]
    }
   ],
   "source": [
    "metric_score(knn,x_train,x_test,y_train,y_test, train=True)\n",
    "metric_score(knn,x_train,x_test,y_train,y_test, train=False)"
   ]
  },
  {
   "cell_type": "code",
   "execution_count": null,
   "id": "e6f51a3e",
   "metadata": {},
   "outputs": [],
   "source": [
    "#after appling hyperparameter tunning i got these results"
   ]
  },
  {
   "cell_type": "code",
   "execution_count": 170,
   "id": "dd50297e",
   "metadata": {},
   "outputs": [],
   "source": [
    "import pickle"
   ]
  },
  {
   "cell_type": "code",
   "execution_count": 173,
   "id": "5a9f1703",
   "metadata": {},
   "outputs": [],
   "source": [
    "pickle.dump(df,open('model2','wb'))"
   ]
  },
  {
   "cell_type": "code",
   "execution_count": null,
   "id": "2a7719cf",
   "metadata": {},
   "outputs": [],
   "source": []
  }
 ],
 "metadata": {
  "kernelspec": {
   "display_name": "Python 3 (ipykernel)",
   "language": "python",
   "name": "python3"
  },
  "language_info": {
   "codemirror_mode": {
    "name": "ipython",
    "version": 3
   },
   "file_extension": ".py",
   "mimetype": "text/x-python",
   "name": "python",
   "nbconvert_exporter": "python",
   "pygments_lexer": "ipython3",
   "version": "3.9.13"
  }
 },
 "nbformat": 4,
 "nbformat_minor": 5
}
